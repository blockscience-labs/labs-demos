{
 "cells": [
  {
   "cell_type": "code",
   "execution_count": 1,
   "id": "3fbd55c7-d93e-4615-9257-6d025f61a03d",
   "metadata": {},
   "outputs": [],
   "source": [
    "a = 4\n",
    "b = 5\n",
    "c = 7"
   ]
  },
  {
   "cell_type": "code",
   "execution_count": 2,
   "id": "a65186f7-22fe-4746-be55-ca04c06b8cf6",
   "metadata": {},
   "outputs": [],
   "source": [
    "d = c * b * a"
   ]
  },
  {
   "cell_type": "code",
   "execution_count": 3,
   "id": "4f366928-e071-4537-a447-92fc8f07980b",
   "metadata": {},
   "outputs": [
    {
     "name": "stdout",
     "output_type": "stream",
     "text": [
      "140\n"
     ]
    }
   ],
   "source": [
    "print(d)"
   ]
  },
  {
   "cell_type": "code",
   "execution_count": null,
   "id": "45de1d94-34fc-4ee2-a8bf-ff131c550146",
   "metadata": {},
   "outputs": [],
   "source": []
  }
 ],
 "metadata": {
  "kernelspec": {
   "display_name": "Python 3 (ipykernel)",
   "language": "python",
   "name": "python3"
  },
  "language_info": {
   "codemirror_mode": {
    "name": "ipython",
    "version": 3
   },
   "file_extension": ".py",
   "mimetype": "text/x-python",
   "name": "python",
   "nbconvert_exporter": "python",
   "pygments_lexer": "ipython3",
   "version": "3.9.13"
  }
 },
 "nbformat": 4,
 "nbformat_minor": 5
}
